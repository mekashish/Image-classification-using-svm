{
 "cells": [
  {
   "cell_type": "markdown",
   "id": "3f0d1836",
   "metadata": {},
   "source": [
    "## Multiclass Classification\n",
    "We will build an Image Classifier using SVM and one vs one classification technique. We have a dataset which has four classes - dog, cat, horse and human."
   ]
  },
  {
   "cell_type": "markdown",
   "id": "fe0647f2",
   "metadata": {},
   "source": [
    "### 1. Dataset Preparation\n",
    "Loading images data"
   ]
  },
  {
   "cell_type": "code",
   "execution_count": 1,
   "id": "1a2a5670",
   "metadata": {},
   "outputs": [],
   "source": [
    "import numpy as np\n",
    "from keras.preprocessing import image\n",
    "from matplotlib import pyplot as plt\n",
    "\n",
    "# for iterating over folders and working with files, there are 2 important files - pathlib & os\n",
    "import os\n",
    "from pathlib import Path"
   ]
  },
  {
   "cell_type": "code",
   "execution_count": 2,
   "id": "5ca8410d",
   "metadata": {},
   "outputs": [
    {
     "name": "stdout",
     "output_type": "stream",
     "text": [
      "images\n",
      "<class 'pathlib.PosixPath'>\n"
     ]
    }
   ],
   "source": [
    "# defining a path for images folder\n",
    "p = Path('images/')\n",
    "print(p)\n",
    "print(type(p))"
   ]
  },
  {
   "cell_type": "code",
   "execution_count": 3,
   "id": "139ac015",
   "metadata": {},
   "outputs": [
    {
     "name": "stdout",
     "output_type": "stream",
     "text": [
      "images/dogs\n",
      "dog\n",
      "images/dogs/dog.167.jpg\n",
      "images/dogs/dog.173.jpg\n",
      "images/dogs/dog.36.jpg\n",
      "images/dogs/dog.22.jpg\n",
      "images/dogs/dog.198.jpg\n",
      "images/dogs/dog.199.jpg\n",
      "images/dogs/dog.23.jpg\n",
      "images/dogs/dog.37.jpg\n",
      "images/dogs/dog.172.jpg\n",
      "images/dogs/dog.166.jpg\n",
      "images/dogs/dog.170.jpg\n",
      "images/dogs/dog.164.jpg\n",
      "images/dogs/dog.21.jpg\n",
      "images/dogs/dog.158.jpg\n",
      "images/dogs/dog.35.jpg\n",
      "images/dogs/dog.159.jpg\n",
      "images/dogs/dog.34.jpg\n",
      "images/dogs/dog.20.jpg\n",
      "images/dogs/dog.165.jpg\n",
      "images/dogs/dog.171.jpg\n",
      "images/dogs/dog.149.jpg\n",
      "images/dogs/dog.24.jpg\n",
      "images/dogs/dog.30.jpg\n",
      "images/dogs/dog.175.jpg\n",
      "images/dogs/dog.18.jpg\n",
      "images/dogs/dog.161.jpg\n",
      "images/dogs/dog.160.jpg\n",
      "images/dogs/dog.174.jpg\n",
      "images/dogs/dog.19.jpg\n",
      "images/dogs/dog.31.jpg\n",
      "images/dogs/dog.148.jpg\n",
      "images/dogs/dog.25.jpg\n",
      "images/dogs/dog.202.jpg\n",
      "images/dogs/dog.200.jpg\n",
      "images/dogs/dog.33.jpg\n",
      "images/dogs/dog.27.jpg\n",
      "images/dogs/dog.162.jpg\n",
      "images/dogs/dog.176.jpg\n",
      "images/dogs/dog.189.jpg\n",
      "images/dogs/dog.188.jpg\n",
      "images/dogs/dog.177.jpg\n",
      "images/dogs/dog.163.jpg\n",
      "images/dogs/dog.26.jpg\n",
      "images/dogs/dog.32.jpg\n",
      "images/dogs/dog.201.jpg\n",
      "images/dogs/dog.104.jpg\n",
      "images/dogs/dog.69.jpg\n",
      "images/dogs/dog.110.jpg\n",
      "images/dogs/dog.138.jpg\n",
      "images/dogs/dog.55.jpg\n",
      "images/dogs/dog.1.jpg\n",
      "images/dogs/dog.41.jpg\n",
      "images/dogs/dog.96.jpg\n",
      "images/dogs/dog.82.jpg\n",
      "images/dogs/dog.83.jpg\n",
      "images/dogs/dog.97.jpg\n",
      "images/dogs/dog.40.jpg\n",
      "images/dogs/dog.139.jpg\n",
      "images/dogs/dog.54.jpg\n",
      "images/dogs/dog.111.jpg\n",
      "images/dogs/dog.105.jpg\n",
      "images/dogs/dog.68.jpg\n",
      "images/dogs/dog.113.jpg\n",
      "images/dogs/dog.107.jpg\n",
      "images/dogs/dog.2.jpg\n",
      "images/dogs/dog.42.jpg\n",
      "images/dogs/dog.56.jpg\n",
      "images/dogs/dog.81.jpg\n",
      "images/dogs/dog.95.jpg\n",
      "images/dogs/dog.94.jpg\n",
      "images/dogs/dog.80.jpg\n",
      "images/dogs/dog.57.jpg\n",
      "images/dogs/dog.43.jpg\n",
      "images/dogs/dog.3.jpg\n",
      "images/dogs/dog.106.jpg\n",
      "images/dogs/dog.112.jpg\n",
      "images/dogs/dog.47.jpg\n",
      "images/dogs/dog.7.jpg\n",
      "images/dogs/dog.53.jpg\n",
      "images/dogs/dog.116.jpg\n",
      "images/dogs/dog.102.jpg\n",
      "images/dogs/dog.84.jpg\n",
      "images/dogs/dog.90.jpg\n",
      "images/dogs/dog.91.jpg\n",
      "images/dogs/dog.85.jpg\n",
      "images/dogs/dog.103.jpg\n",
      "images/dogs/dog.117.jpg\n",
      "images/dogs/dog.52.jpg\n",
      "images/dogs/dog.6.jpg\n",
      "images/dogs/dog.46.jpg\n",
      "images/dogs/dog.50.jpg\n",
      "images/dogs/dog.129.jpg\n",
      "images/dogs/dog.44.jpg\n",
      "images/dogs/dog.4.jpg\n",
      "images/dogs/dog.101.jpg\n",
      "images/dogs/dog.115.jpg\n",
      "images/dogs/dog.78.jpg\n",
      "images/dogs/dog.93.jpg\n",
      "images/dogs/dog.87.jpg\n",
      "images/dogs/dog.86.jpg\n",
      "images/dogs/dog.92.jpg\n",
      "images/dogs/dog.114.jpg\n",
      "images/dogs/dog.79.jpg\n",
      "images/dogs/dog.100.jpg\n",
      "images/dogs/dog.128.jpg\n",
      "images/dogs/dog.5.jpg\n",
      "images/dogs/dog.45.jpg\n",
      "images/dogs/dog.51.jpg\n",
      "images/dogs/dog.125.jpg\n",
      "images/dogs/dog.8.jpg\n",
      "images/dogs/dog.48.jpg\n",
      "images/dogs/dog.131.jpg\n",
      "images/dogs/dog.119.jpg\n",
      "images/dogs/dog.74.jpg\n",
      "images/dogs/dog.60.jpg\n",
      "images/dogs/dog.61.jpg\n",
      "images/dogs/dog.118.jpg\n",
      "images/dogs/dog.75.jpg\n",
      "images/dogs/dog.130.jpg\n",
      "images/dogs/dog.124.jpg\n",
      "images/dogs/dog.49.jpg\n",
      "images/dogs/dog.9.jpg\n",
      "images/dogs/dog.132.jpg\n",
      "images/dogs/dog.126.jpg\n",
      "images/dogs/dog.63.jpg\n",
      "images/dogs/dog.77.jpg\n",
      "images/dogs/dog.88.jpg\n",
      "images/dogs/dog.89.jpg\n",
      "images/dogs/dog.76.jpg\n",
      "images/dogs/dog.62.jpg\n",
      "images/dogs/dog.127.jpg\n",
      "images/dogs/dog.133.jpg\n",
      "images/dogs/dog.66.jpg\n",
      "images/dogs/dog.72.jpg\n",
      "images/dogs/dog.137.jpg\n",
      "images/dogs/dog.123.jpg\n",
      "images/dogs/dog.99.jpg\n",
      "images/dogs/dog.98.jpg\n",
      "images/dogs/dog.122.jpg\n",
      "images/dogs/dog.136.jpg\n",
      "images/dogs/dog.73.jpg\n",
      "images/dogs/dog.67.jpg\n",
      "images/dogs/dog.71.jpg\n",
      "images/dogs/dog.108.jpg\n",
      "images/dogs/dog.65.jpg\n",
      "images/dogs/dog.120.jpg\n",
      "images/dogs/dog.134.jpg\n",
      "images/dogs/dog.59.jpg\n",
      "images/dogs/dog.135.jpg\n",
      "images/dogs/dog.58.jpg\n",
      "images/dogs/dog.121.jpg\n",
      "images/dogs/dog.109.jpg\n",
      "images/dogs/dog.64.jpg\n",
      "images/dogs/dog.70.jpg\n",
      "images/dogs/dog.146.jpg\n",
      "images/dogs/dog.152.jpg\n",
      "images/dogs/dog.17.jpg\n",
      "images/dogs/dog.185.jpg\n",
      "images/dogs/dog.191.jpg\n",
      "images/dogs/dog.190.jpg\n",
      "images/dogs/dog.184.jpg\n",
      "images/dogs/dog.16.jpg\n",
      "images/dogs/dog.153.jpg\n",
      "images/dogs/dog.147.jpg\n",
      "images/dogs/dog.151.jpg\n",
      "images/dogs/dog.145.jpg\n",
      "images/dogs/dog.28.jpg\n",
      "images/dogs/dog.179.jpg\n",
      "images/dogs/dog.14.jpg\n",
      "images/dogs/dog.192.jpg\n",
      "images/dogs/dog.186.jpg\n",
      "images/dogs/dog.187.jpg\n",
      "images/dogs/dog.193.jpg\n",
      "images/dogs/dog.178.jpg\n",
      "images/dogs/dog.15.jpg\n",
      "images/dogs/dog.144.jpg\n",
      "images/dogs/dog.29.jpg\n",
      "images/dogs/dog.150.jpg\n",
      "images/dogs/dog.168.jpg\n",
      "images/dogs/dog.11.jpg\n",
      "images/dogs/dog.154.jpg\n",
      "images/dogs/dog.39.jpg\n",
      "images/dogs/dog.140.jpg\n",
      "images/dogs/dog.197.jpg\n",
      "images/dogs/dog.183.jpg\n",
      "images/dogs/dog.182.jpg\n",
      "images/dogs/dog.196.jpg\n",
      "images/dogs/dog.141.jpg\n",
      "images/dogs/dog.155.jpg\n",
      "images/dogs/dog.38.jpg\n",
      "images/dogs/dog.10.jpg\n",
      "images/dogs/dog.169.jpg\n",
      "images/dogs/dog.12.jpg\n",
      "images/dogs/dog.143.jpg\n",
      "images/dogs/dog.157.jpg\n",
      "images/dogs/dog.180.jpg\n",
      "images/dogs/dog.194.jpg\n",
      "images/dogs/dog.195.jpg\n",
      "images/dogs/dog.181.jpg\n",
      "images/dogs/dog.156.jpg\n",
      "images/dogs/dog.142.jpg\n",
      "images/dogs/dog.13.jpg\n",
      "images/cats\n",
      "cat\n",
      "images/cats/cat.6.jpg\n",
      "images/cats/cat.198.jpg\n",
      "images/cats/cat.30.jpg\n",
      "images/cats/cat.24.jpg\n",
      "images/cats/cat.167.jpg\n",
      "images/cats/cat.18.jpg\n",
      "images/cats/cat.173.jpg\n",
      "images/cats/cat.172.jpg\n",
      "images/cats/cat.19.jpg\n",
      "images/cats/cat.166.jpg\n",
      "images/cats/cat.25.jpg\n",
      "images/cats/cat.31.jpg\n",
      "images/cats/cat.199.jpg\n",
      "images/cats/cat.7.jpg\n",
      "images/cats/cat.5.jpg\n",
      "images/cats/cat.27.jpg\n",
      "images/cats/cat.33.jpg\n",
      "images/cats/cat.158.jpg\n",
      "images/cats/cat.170.jpg\n",
      "images/cats/cat.164.jpg\n",
      "images/cats/cat.165.jpg\n",
      "images/cats/cat.171.jpg\n",
      "images/cats/cat.159.jpg\n",
      "images/cats/cat.32.jpg\n",
      "images/cats/cat.26.jpg\n",
      "images/cats/cat.4.jpg\n",
      "images/cats/cat.175.jpg\n",
      "images/cats/cat.161.jpg\n",
      "images/cats/cat.22.jpg\n",
      "images/cats/cat.149.jpg\n",
      "images/cats/cat.36.jpg\n",
      "images/cats/cat.37.jpg\n",
      "images/cats/cat.148.jpg\n",
      "images/cats/cat.23.jpg\n",
      "images/cats/cat.160.jpg\n",
      "images/cats/cat.174.jpg\n",
      "images/cats/cat.202.jpg\n",
      "images/cats/cat.1.jpg\n",
      "images/cats/cat.3.jpg\n",
      "images/cats/cat.200.jpg\n",
      "images/cats/cat.189.jpg\n",
      "images/cats/cat.162.jpg\n",
      "images/cats/cat.176.jpg\n",
      "images/cats/cat.35.jpg\n",
      "images/cats/cat.21.jpg\n",
      "images/cats/cat.20.jpg\n",
      "images/cats/cat.34.jpg\n",
      "images/cats/cat.177.jpg\n",
      "images/cats/cat.163.jpg\n",
      "images/cats/cat.188.jpg\n",
      "images/cats/cat.201.jpg\n",
      "images/cats/cat.2.jpg\n",
      "images/cats/cat.90.jpg\n",
      "images/cats/cat.84.jpg\n",
      "images/cats/cat.53.jpg\n",
      "images/cats/cat.138.jpg\n",
      "images/cats/cat.47.jpg\n",
      "images/cats/cat.104.jpg\n",
      "images/cats/cat.110.jpg\n",
      "images/cats/cat.111.jpg\n",
      "images/cats/cat.105.jpg\n",
      "images/cats/cat.46.jpg\n",
      "images/cats/cat.139.jpg\n",
      "images/cats/cat.52.jpg\n",
      "images/cats/cat.85.jpg\n",
      "images/cats/cat.91.jpg\n",
      "images/cats/cat.87.jpg\n",
      "images/cats/cat.93.jpg\n",
      "images/cats/cat.44.jpg\n",
      "images/cats/cat.50.jpg\n",
      "images/cats/cat.78.jpg\n",
      "images/cats/cat.113.jpg\n",
      "images/cats/cat.107.jpg\n",
      "images/cats/cat.106.jpg\n",
      "images/cats/cat.112.jpg\n",
      "images/cats/cat.79.jpg\n",
      "images/cats/cat.51.jpg\n",
      "images/cats/cat.45.jpg\n",
      "images/cats/cat.92.jpg\n",
      "images/cats/cat.86.jpg\n",
      "images/cats/cat.82.jpg\n",
      "images/cats/cat.96.jpg\n",
      "images/cats/cat.116.jpg\n",
      "images/cats/cat.69.jpg\n",
      "images/cats/cat.102.jpg\n",
      "images/cats/cat.41.jpg\n",
      "images/cats/cat.55.jpg\n",
      "images/cats/cat.54.jpg\n",
      "images/cats/cat.40.jpg\n",
      "images/cats/cat.103.jpg\n",
      "images/cats/cat.68.jpg\n",
      "images/cats/cat.117.jpg\n",
      "images/cats/cat.97.jpg\n",
      "images/cats/cat.83.jpg\n",
      "images/cats/cat.95.jpg\n",
      "images/cats/cat.81.jpg\n",
      "images/cats/cat.101.jpg\n",
      "images/cats/cat.115.jpg\n",
      "images/cats/cat.56.jpg\n",
      "images/cats/cat.42.jpg\n",
      "images/cats/cat.129.jpg\n",
      "images/cats/cat.128.jpg\n",
      "images/cats/cat.43.jpg\n",
      "images/cats/cat.57.jpg\n",
      "images/cats/cat.114.jpg\n",
      "images/cats/cat.100.jpg\n",
      "images/cats/cat.80.jpg\n",
      "images/cats/cat.94.jpg\n",
      "images/cats/cat.99.jpg\n",
      "images/cats/cat.72.jpg\n",
      "images/cats/cat.119.jpg\n",
      "images/cats/cat.66.jpg\n",
      "images/cats/cat.125.jpg\n",
      "images/cats/cat.131.jpg\n",
      "images/cats/cat.130.jpg\n",
      "images/cats/cat.124.jpg\n",
      "images/cats/cat.67.jpg\n",
      "images/cats/cat.118.jpg\n",
      "images/cats/cat.73.jpg\n",
      "images/cats/cat.98.jpg\n",
      "images/cats/cat.65.jpg\n",
      "images/cats/cat.71.jpg\n",
      "images/cats/cat.59.jpg\n",
      "images/cats/cat.132.jpg\n",
      "images/cats/cat.126.jpg\n",
      "images/cats/cat.127.jpg\n",
      "images/cats/cat.133.jpg\n",
      "images/cats/cat.58.jpg\n",
      "images/cats/cat.70.jpg\n",
      "images/cats/cat.64.jpg\n",
      "images/cats/cat.137.jpg\n",
      "images/cats/cat.48.jpg\n",
      "images/cats/cat.123.jpg\n",
      "images/cats/cat.60.jpg\n",
      "images/cats/cat.74.jpg\n",
      "images/cats/cat.75.jpg\n",
      "images/cats/cat.61.jpg\n",
      "images/cats/cat.122.jpg\n",
      "images/cats/cat.49.jpg\n",
      "images/cats/cat.136.jpg\n",
      "images/cats/cat.88.jpg\n",
      "images/cats/cat.120.jpg\n",
      "images/cats/cat.134.jpg\n",
      "images/cats/cat.77.jpg\n",
      "images/cats/cat.63.jpg\n",
      "images/cats/cat.108.jpg\n",
      "images/cats/cat.109.jpg\n",
      "images/cats/cat.62.jpg\n",
      "images/cats/cat.76.jpg\n",
      "images/cats/cat.135.jpg\n",
      "images/cats/cat.121.jpg\n",
      "images/cats/cat.89.jpg\n",
      "images/cats/cat.185.jpg\n",
      "images/cats/cat.191.jpg\n",
      "images/cats/cat.11.jpg\n",
      "images/cats/cat.146.jpg\n",
      "images/cats/cat.39.jpg\n",
      "images/cats/cat.152.jpg\n",
      "images/cats/cat.153.jpg\n",
      "images/cats/cat.38.jpg\n",
      "images/cats/cat.147.jpg\n",
      "images/cats/cat.10.jpg\n",
      "images/cats/cat.190.jpg\n",
      "images/cats/cat.184.jpg\n",
      "images/cats/cat.192.jpg\n",
      "images/cats/cat.186.jpg\n",
      "images/cats/cat.12.jpg\n",
      "images/cats/cat.179.jpg\n",
      "images/cats/cat.151.jpg\n",
      "images/cats/cat.145.jpg\n",
      "images/cats/cat.144.jpg\n",
      "images/cats/cat.150.jpg\n",
      "images/cats/cat.178.jpg\n",
      "images/cats/cat.13.jpg\n",
      "images/cats/cat.187.jpg\n",
      "images/cats/cat.193.jpg\n",
      "images/cats/cat.9.jpg\n",
      "images/cats/cat.197.jpg\n",
      "images/cats/cat.183.jpg\n",
      "images/cats/cat.154.jpg\n",
      "images/cats/cat.140.jpg\n",
      "images/cats/cat.168.jpg\n",
      "images/cats/cat.17.jpg\n",
      "images/cats/cat.16.jpg\n",
      "images/cats/cat.169.jpg\n",
      "images/cats/cat.141.jpg\n",
      "images/cats/cat.155.jpg\n",
      "images/cats/cat.182.jpg\n",
      "images/cats/cat.196.jpg\n",
      "images/cats/cat.8.jpg\n",
      "images/cats/cat.180.jpg\n",
      "images/cats/cat.194.jpg\n",
      "images/cats/cat.28.jpg\n",
      "images/cats/cat.143.jpg\n",
      "images/cats/cat.157.jpg\n",
      "images/cats/cat.14.jpg\n",
      "images/cats/cat.15.jpg\n",
      "images/cats/cat.156.jpg\n",
      "images/cats/cat.142.jpg\n",
      "images/cats/cat.29.jpg\n",
      "images/cats/cat.195.jpg\n",
      "images/cats/cat.181.jpg\n",
      "images/humans\n",
      "human\n",
      "images/humans/rider-39.jpg\n",
      "images/humans/rider-11.jpg\n",
      "images/humans/rider-127.jpg\n",
      "images/humans/rider-133.jpg\n",
      "images/humans/rider-132.jpg\n",
      "images/humans/rider-126.jpg\n",
      "images/humans/rider-10.jpg\n",
      "images/humans/rider-38.jpg\n",
      "images/humans/rider-12.jpg\n",
      "images/humans/rider-130.jpg\n",
      "images/humans/rider-124.jpg\n",
      "images/humans/rider-118.jpg\n",
      "images/humans/rider-119.jpg\n",
      "images/humans/rider-125.jpg\n",
      "images/humans/rider-131.jpg\n",
      "images/humans/rider-13.jpg\n",
      "images/humans/rider-17.jpg\n",
      "images/humans/rider-109.jpg\n",
      "images/humans/rider-135.jpg\n",
      "images/humans/rider-121.jpg\n",
      "images/humans/rider-120.jpg\n",
      "images/humans/rider-134.jpg\n",
      "images/humans/rider-108.jpg\n",
      "images/humans/rider-16.jpg\n",
      "images/humans/rider-9.jpg\n",
      "images/humans/rider-14.jpg\n",
      "images/humans/rider-28.jpg\n",
      "images/humans/rider-122.jpg\n",
      "images/humans/rider-136.jpg\n",
      "images/humans/rider-137.jpg\n",
      "images/humans/rider-123.jpg\n",
      "images/humans/rider-29.jpg\n",
      "images/humans/rider-15.jpg\n",
      "images/humans/rider-8.jpg\n",
      "images/humans/rider-187.jpg\n",
      "images/humans/rider-193.jpg\n",
      "images/humans/rider-72.jpg\n",
      "images/humans/rider-66.jpg\n",
      "images/humans/rider-144.jpg\n",
      "images/humans/rider-150.jpg\n",
      "images/humans/rider-99.jpg\n",
      "images/humans/rider-178.jpg\n",
      "images/humans/rider-179.jpg\n",
      "images/humans/rider-98.jpg\n",
      "images/humans/rider-151.jpg\n",
      "images/humans/rider-145.jpg\n",
      "images/humans/rider-67.jpg\n",
      "images/humans/rider-73.jpg\n",
      "images/humans/rider-192.jpg\n",
      "images/humans/rider-186.jpg\n",
      "images/humans/rider-59.jpg\n",
      "images/humans/rider-190.jpg\n",
      "images/humans/rider-184.jpg\n",
      "images/humans/rider-65.jpg\n",
      "images/humans/rider-71.jpg\n",
      "images/humans/rider-153.jpg\n",
      "images/humans/rider-147.jpg\n",
      "images/humans/rider-146.jpg\n",
      "images/humans/rider-152.jpg\n",
      "images/humans/rider-70.jpg\n",
      "images/humans/rider-64.jpg\n",
      "images/humans/rider-185.jpg\n",
      "images/humans/rider-191.jpg\n",
      "images/humans/rider-58.jpg\n",
      "images/humans/rider-60.jpg\n",
      "images/humans/rider-74.jpg\n",
      "images/humans/rider-195.jpg\n",
      "images/humans/rider-48.jpg\n",
      "images/humans/rider-181.jpg\n",
      "images/humans/rider-156.jpg\n",
      "images/humans/rider-142.jpg\n",
      "images/humans/rider-143.jpg\n",
      "images/humans/rider-157.jpg\n",
      "images/humans/rider-180.jpg\n",
      "images/humans/rider-49.jpg\n",
      "images/humans/rider-194.jpg\n",
      "images/humans/rider-75.jpg\n",
      "images/humans/rider-61.jpg\n",
      "images/humans/rider-77.jpg\n",
      "images/humans/rider-63.jpg\n",
      "images/humans/rider-182.jpg\n",
      "images/humans/rider-196.jpg\n",
      "images/humans/rider-169.jpg\n",
      "images/humans/rider-141.jpg\n",
      "images/humans/rider-88.jpg\n",
      "images/humans/rider-155.jpg\n",
      "images/humans/rider-154.jpg\n",
      "images/humans/rider-89.jpg\n",
      "images/humans/rider-140.jpg\n",
      "images/humans/rider-168.jpg\n",
      "images/humans/rider-197.jpg\n",
      "images/humans/rider-183.jpg\n",
      "images/humans/rider-62.jpg\n",
      "images/humans/rider-76.jpg\n",
      "images/humans/rider-53.jpg\n",
      "images/humans/rider-47.jpg\n",
      "images/humans/rider-165.jpg\n",
      "images/humans/rider-171.jpg\n",
      "images/humans/rider-159.jpg\n",
      "images/humans/rider-90.jpg\n",
      "images/humans/rider-84.jpg\n",
      "images/humans/rider-85.jpg\n",
      "images/humans/rider-91.jpg\n",
      "images/humans/rider-158.jpg\n",
      "images/humans/rider-170.jpg\n",
      "images/humans/rider-164.jpg\n",
      "images/humans/rider-46.jpg\n",
      "images/humans/rider-52.jpg\n",
      "images/humans/rider-78.jpg\n",
      "images/humans/rider-44.jpg\n",
      "images/humans/rider-50.jpg\n",
      "images/humans/rider-199.jpg\n",
      "images/humans/rider-172.jpg\n",
      "images/humans/rider-166.jpg\n",
      "images/humans/rider-87.jpg\n",
      "images/humans/rider-93.jpg\n",
      "images/humans/rider-92.jpg\n",
      "images/humans/rider-86.jpg\n",
      "images/humans/rider-167.jpg\n",
      "images/humans/rider-173.jpg\n",
      "images/humans/rider-198.jpg\n",
      "images/humans/rider-51.jpg\n",
      "images/humans/rider-45.jpg\n",
      "images/humans/rider-79.jpg\n",
      "images/humans/rider-201.jpg\n",
      "images/humans/rider-41.jpg\n",
      "images/humans/rider-188.jpg\n",
      "images/humans/rider-55.jpg\n",
      "images/humans/rider-69.jpg\n",
      "images/humans/rider-82.jpg\n",
      "images/humans/rider-96.jpg\n",
      "images/humans/rider-177.jpg\n",
      "images/humans/rider-163.jpg\n",
      "images/humans/rider-162.jpg\n",
      "images/humans/rider-176.jpg\n",
      "images/humans/rider-97.jpg\n",
      "images/humans/rider-83.jpg\n",
      "images/humans/rider-68.jpg\n",
      "images/humans/rider-54.jpg\n",
      "images/humans/rider-189.jpg\n",
      "images/humans/rider-40.jpg\n",
      "images/humans/rider-200.jpg\n",
      "images/humans/rider-202.jpg\n",
      "images/humans/rider-56.jpg\n",
      "images/humans/rider-42.jpg\n",
      "images/humans/rider-95.jpg\n",
      "images/humans/rider-148.jpg\n",
      "images/humans/rider-81.jpg\n",
      "images/humans/rider-160.jpg\n",
      "images/humans/rider-174.jpg\n"
     ]
    },
    {
     "name": "stdout",
     "output_type": "stream",
     "text": [
      "images/humans/rider-175.jpg\n",
      "images/humans/rider-161.jpg\n",
      "images/humans/rider-80.jpg\n",
      "images/humans/rider-149.jpg\n",
      "images/humans/rider-94.jpg\n",
      "images/humans/rider-43.jpg\n",
      "images/humans/rider-57.jpg\n",
      "images/humans/rider-5.jpg\n",
      "images/humans/rider-18.jpg\n",
      "images/humans/rider-30.jpg\n",
      "images/humans/rider-24.jpg\n",
      "images/humans/rider-106.jpg\n",
      "images/humans/rider-112.jpg\n",
      "images/humans/rider-113.jpg\n",
      "images/humans/rider-107.jpg\n",
      "images/humans/rider-25.jpg\n",
      "images/humans/rider-31.jpg\n",
      "images/humans/rider-19.jpg\n",
      "images/humans/rider-4.jpg\n",
      "images/humans/rider-6.jpg\n",
      "images/humans/rider-27.jpg\n",
      "images/humans/rider-33.jpg\n",
      "images/humans/rider-111.jpg\n",
      "images/humans/rider-105.jpg\n",
      "images/humans/rider-139.jpg\n",
      "images/humans/rider-138.jpg\n",
      "images/humans/rider-104.jpg\n",
      "images/humans/rider-110.jpg\n",
      "images/humans/rider-32.jpg\n",
      "images/humans/rider-26.jpg\n",
      "images/humans/rider-7.jpg\n",
      "images/humans/rider-3.jpg\n",
      "images/humans/rider-22.jpg\n",
      "images/humans/rider-36.jpg\n",
      "images/humans/rider-128.jpg\n",
      "images/humans/rider-114.jpg\n",
      "images/humans/rider-100.jpg\n",
      "images/humans/rider-101.jpg\n",
      "images/humans/rider-115.jpg\n",
      "images/humans/rider-129.jpg\n",
      "images/humans/rider-37.jpg\n",
      "images/humans/rider-23.jpg\n",
      "images/humans/rider-2.jpg\n",
      "images/humans/rider-35.jpg\n",
      "images/humans/rider-21.jpg\n",
      "images/humans/rider-103.jpg\n",
      "images/humans/rider-117.jpg\n",
      "images/humans/rider-116.jpg\n",
      "images/humans/rider-102.jpg\n",
      "images/humans/rider-20.jpg\n",
      "images/humans/rider-34.jpg\n",
      "images/humans/rider-1.jpg\n",
      "images/horses\n",
      "horse\n",
      "images/horses/horse-138.jpg\n",
      "images/horses/horse-104.jpg\n",
      "images/horses/horse-110.jpg\n",
      "images/horses/horse-26.jpg\n",
      "images/horses/horse-32.jpg\n",
      "images/horses/horse-33.jpg\n",
      "images/horses/horse-27.jpg\n",
      "images/horses/horse-111.jpg\n",
      "images/horses/horse-105.jpg\n",
      "images/horses/horse-139.jpg\n",
      "images/horses/horse-113.jpg\n",
      "images/horses/horse-107.jpg\n",
      "images/horses/horse-31.jpg\n",
      "images/horses/horse-25.jpg\n",
      "images/horses/horse-19.jpg\n",
      "images/horses/horse-18.jpg\n",
      "images/horses/horse-24.jpg\n",
      "images/horses/horse-30.jpg\n",
      "images/horses/horse-106.jpg\n",
      "images/horses/horse-112.jpg\n",
      "images/horses/horse-116.jpg\n",
      "images/horses/horse-102.jpg\n",
      "images/horses/horse-34.jpg\n",
      "images/horses/horse-20.jpg\n",
      "images/horses/horse-21.jpg\n",
      "images/horses/horse-35.jpg\n",
      "images/horses/horse-103.jpg\n",
      "images/horses/horse-117.jpg\n",
      "images/horses/horse-101.jpg\n",
      "images/horses/horse-115.jpg\n",
      "images/horses/horse-129.jpg\n",
      "images/horses/horse-23.jpg\n",
      "images/horses/horse-37.jpg\n",
      "images/horses/horse-36.jpg\n",
      "images/horses/horse-22.jpg\n",
      "images/horses/horse-128.jpg\n",
      "images/horses/horse-114.jpg\n",
      "images/horses/horse-100.jpg\n",
      "images/horses/horse-198.jpg\n",
      "images/horses/horse-167.jpg\n",
      "images/horses/horse-173.jpg\n",
      "images/horses/horse-86.jpg\n",
      "images/horses/horse-92.jpg\n",
      "images/horses/horse-45.jpg\n",
      "images/horses/horse-51.jpg\n",
      "images/horses/horse-79.jpg\n",
      "images/horses/horse-78.jpg\n",
      "images/horses/horse-50.jpg\n",
      "images/horses/horse-44.jpg\n",
      "images/horses/horse-93.jpg\n",
      "images/horses/horse-87.jpg\n",
      "images/horses/horse-172.jpg\n",
      "images/horses/horse-166.jpg\n",
      "images/horses/horse-199.jpg\n",
      "images/horses/horse-9.jpg\n",
      "images/horses/horse-158.jpg\n",
      "images/horses/horse-170.jpg\n",
      "images/horses/horse-164.jpg\n",
      "images/horses/horse-91.jpg\n",
      "images/horses/horse-85.jpg\n",
      "images/horses/horse-52.jpg\n",
      "images/horses/horse-46.jpg\n",
      "images/horses/horse-47.jpg\n",
      "images/horses/horse-53.jpg\n",
      "images/horses/horse-84.jpg\n",
      "images/horses/horse-90.jpg\n",
      "images/horses/horse-165.jpg\n",
      "images/horses/horse-171.jpg\n",
      "images/horses/horse-159.jpg\n",
      "images/horses/horse-8.jpg\n",
      "images/horses/horse-175.jpg\n",
      "images/horses/horse-161.jpg\n",
      "images/horses/horse-149.jpg\n",
      "images/horses/horse-94.jpg\n",
      "images/horses/horse-80.jpg\n",
      "images/horses/horse-57.jpg\n",
      "images/horses/horse-43.jpg\n",
      "images/horses/horse-42.jpg\n",
      "images/horses/horse-56.jpg\n",
      "images/horses/horse-81.jpg\n",
      "images/horses/horse-95.jpg\n",
      "images/horses/horse-148.jpg\n",
      "images/horses/horse-160.jpg\n",
      "images/horses/horse-174.jpg\n",
      "images/horses/horse-202.jpg\n",
      "images/horses/horse-200.jpg\n",
      "images/horses/horse-189.jpg\n",
      "images/horses/horse-162.jpg\n",
      "images/horses/horse-176.jpg\n",
      "images/horses/horse-83.jpg\n",
      "images/horses/horse-97.jpg\n",
      "images/horses/horse-68.jpg\n",
      "images/horses/horse-40.jpg\n",
      "images/horses/horse-54.jpg\n",
      "images/horses/horse-55.jpg\n",
      "images/horses/horse-41.jpg\n",
      "images/horses/horse-69.jpg\n",
      "images/horses/horse-96.jpg\n",
      "images/horses/horse-82.jpg\n",
      "images/horses/horse-177.jpg\n",
      "images/horses/horse-163.jpg\n",
      "images/horses/horse-188.jpg\n",
      "images/horses/horse-201.jpg\n",
      "images/horses/horse-3.jpg\n",
      "images/horses/horse-185.jpg\n",
      "images/horses/horse-191.jpg\n",
      "images/horses/horse-146.jpg\n",
      "images/horses/horse-152.jpg\n",
      "images/horses/horse-64.jpg\n",
      "images/horses/horse-70.jpg\n",
      "images/horses/horse-58.jpg\n",
      "images/horses/horse-59.jpg\n",
      "images/horses/horse-71.jpg\n",
      "images/horses/horse-65.jpg\n",
      "images/horses/horse-153.jpg\n",
      "images/horses/horse-147.jpg\n",
      "images/horses/horse-190.jpg\n",
      "images/horses/horse-184.jpg\n",
      "images/horses/horse-2.jpg\n",
      "images/horses/horse-192.jpg\n",
      "images/horses/horse-186.jpg\n",
      "images/horses/horse-179.jpg\n",
      "images/horses/horse-151.jpg\n",
      "images/horses/horse-145.jpg\n",
      "images/horses/horse-98.jpg\n",
      "images/horses/horse-73.jpg\n",
      "images/horses/horse-67.jpg\n",
      "images/horses/horse-66.jpg\n",
      "images/horses/horse-72.jpg\n",
      "images/horses/horse-99.jpg\n",
      "images/horses/horse-144.jpg\n",
      "images/horses/horse-150.jpg\n",
      "images/horses/horse-178.jpg\n",
      "images/horses/horse-187.jpg\n",
      "images/horses/horse-193.jpg\n",
      "images/horses/horse-1.jpg\n",
      "images/horses/horse-5.jpg\n",
      "images/horses/horse-197.jpg\n",
      "images/horses/horse-183.jpg\n",
      "images/horses/horse-154.jpg\n",
      "images/horses/horse-140.jpg\n",
      "images/horses/horse-168.jpg\n",
      "images/horses/horse-89.jpg\n",
      "images/horses/horse-76.jpg\n",
      "images/horses/horse-62.jpg\n",
      "images/horses/horse-63.jpg\n",
      "images/horses/horse-77.jpg\n",
      "images/horses/horse-88.jpg\n",
      "images/horses/horse-169.jpg\n",
      "images/horses/horse-141.jpg\n",
      "images/horses/horse-155.jpg\n",
      "images/horses/horse-182.jpg\n",
      "images/horses/horse-196.jpg\n",
      "images/horses/horse-4.jpg\n",
      "images/horses/horse-6.jpg\n",
      "images/horses/horse-180.jpg\n",
      "images/horses/horse-194.jpg\n",
      "images/horses/horse-143.jpg\n",
      "images/horses/horse-157.jpg\n",
      "images/horses/horse-49.jpg\n",
      "images/horses/horse-61.jpg\n",
      "images/horses/horse-75.jpg\n",
      "images/horses/horse-74.jpg\n",
      "images/horses/horse-60.jpg\n",
      "images/horses/horse-48.jpg\n",
      "images/horses/horse-156.jpg\n",
      "images/horses/horse-142.jpg\n",
      "images/horses/horse-195.jpg\n",
      "images/horses/horse-181.jpg\n",
      "images/horses/horse-7.jpg\n",
      "images/horses/horse-119.jpg\n",
      "images/horses/horse-125.jpg\n",
      "images/horses/horse-131.jpg\n",
      "images/horses/horse-13.jpg\n",
      "images/horses/horse-12.jpg\n",
      "images/horses/horse-130.jpg\n",
      "images/horses/horse-124.jpg\n",
      "images/horses/horse-118.jpg\n",
      "images/horses/horse-132.jpg\n",
      "images/horses/horse-126.jpg\n",
      "images/horses/horse-10.jpg\n",
      "images/horses/horse-38.jpg\n",
      "images/horses/horse-39.jpg\n",
      "images/horses/horse-11.jpg\n",
      "images/horses/horse-127.jpg\n",
      "images/horses/horse-133.jpg\n",
      "images/horses/horse-137.jpg\n",
      "images/horses/horse-123.jpg\n",
      "images/horses/horse-29.jpg\n",
      "images/horses/horse-15.jpg\n",
      "images/horses/horse-14.jpg\n",
      "images/horses/horse-28.jpg\n",
      "images/horses/horse-122.jpg\n",
      "images/horses/horse-136.jpg\n",
      "images/horses/horse-120.jpg\n",
      "images/horses/horse-134.jpg\n",
      "images/horses/horse-108.jpg\n",
      "images/horses/horse-16.jpg\n",
      "images/horses/horse-17.jpg\n",
      "images/horses/horse-109.jpg\n",
      "images/horses/horse-135.jpg\n",
      "images/horses/horse-121.jpg\n"
     ]
    }
   ],
   "source": [
    "# this method accepts a regular expression for what type of files we want to look in the path\n",
    "# it gives a genrator object\n",
    "# we can iterate over this object and get all the values which are inside this folder\n",
    "\n",
    "dirs = p.glob(\"*\")   # * means everything\n",
    "\n",
    "# we cannot directly append the label, so we create a mapping (dictionary)\n",
    "labels_dict = {\"cat\":0, \"dog\":1, \"horse\":2, \"human\":3}\n",
    "\n",
    "image_data = []\n",
    "labels = []\n",
    "\n",
    "for folder_dir in dirs:\n",
    "    print(folder_dir)  # we get paths of all the folders which are inside the images folder\n",
    "    \n",
    "# extracting a label \n",
    "# when we have images, we don't have explicit labels and need to generate labels from the folder\n",
    "    label = str(folder_dir).split(sep='/')[-1][:-1]   # folder name\n",
    "    print(label)\n",
    "    \n",
    "    # iterating over all the images inside every folder\n",
    "    for img_path in folder_dir.glob(\"*.jpg\"):          # we are looking at all jpg files\n",
    "        print(img_path)   # we are getting the path of every image\n",
    "        \n",
    "        # converting image to array format to get iamge array for every image\n",
    "        img = image.load_img(img_path,target_size=(32,32))\n",
    "        img_array = image.img_to_array(img)\n",
    "        image_data.append(img_array)\n",
    "        labels.append(labels_dict[label])"
   ]
  },
  {
   "cell_type": "code",
   "execution_count": 4,
   "id": "ddd1b921",
   "metadata": {},
   "outputs": [
    {
     "name": "stdout",
     "output_type": "stream",
     "text": [
      "808\n",
      "808\n"
     ]
    }
   ],
   "source": [
    "# we have 808 training points and 808 labels\n",
    "print(len(image_data))\n",
    "print(len(labels))"
   ]
  },
  {
   "cell_type": "code",
   "execution_count": 5,
   "id": "c2f6b6fb",
   "metadata": {},
   "outputs": [
    {
     "name": "stdout",
     "output_type": "stream",
     "text": [
      "[1, 1, 1, 1, 1, 1, 1, 1, 1, 1, 1, 1, 1, 1, 1, 1, 1, 1, 1, 1, 1, 1, 1, 1, 1, 1, 1, 1, 1, 1, 1, 1, 1, 1, 1, 1, 1, 1, 1, 1, 1, 1, 1, 1, 1, 1, 1, 1, 1, 1, 1, 1, 1, 1, 1, 1, 1, 1, 1, 1, 1, 1, 1, 1, 1, 1, 1, 1, 1, 1, 1, 1, 1, 1, 1, 1, 1, 1, 1, 1, 1, 1, 1, 1, 1, 1, 1, 1, 1, 1, 1, 1, 1, 1, 1, 1, 1, 1, 1, 1, 1, 1, 1, 1, 1, 1, 1, 1, 1, 1, 1, 1, 1, 1, 1, 1, 1, 1, 1, 1, 1, 1, 1, 1, 1, 1, 1, 1, 1, 1, 1, 1, 1, 1, 1, 1, 1, 1, 1, 1, 1, 1, 1, 1, 1, 1, 1, 1, 1, 1, 1, 1, 1, 1, 1, 1, 1, 1, 1, 1, 1, 1, 1, 1, 1, 1, 1, 1, 1, 1, 1, 1, 1, 1, 1, 1, 1, 1, 1, 1, 1, 1, 1, 1, 1, 1, 1, 1, 1, 1, 1, 1, 1, 1, 1, 1, 1, 1, 1, 1, 1, 1, 0, 0, 0, 0, 0, 0, 0, 0, 0, 0, 0, 0, 0, 0, 0, 0, 0, 0, 0, 0, 0, 0, 0, 0, 0, 0, 0, 0, 0, 0, 0, 0, 0, 0, 0, 0, 0, 0, 0, 0, 0, 0, 0, 0, 0, 0, 0, 0, 0, 0, 0, 0, 0, 0, 0, 0, 0, 0, 0, 0, 0, 0, 0, 0, 0, 0, 0, 0, 0, 0, 0, 0, 0, 0, 0, 0, 0, 0, 0, 0, 0, 0, 0, 0, 0, 0, 0, 0, 0, 0, 0, 0, 0, 0, 0, 0, 0, 0, 0, 0, 0, 0, 0, 0, 0, 0, 0, 0, 0, 0, 0, 0, 0, 0, 0, 0, 0, 0, 0, 0, 0, 0, 0, 0, 0, 0, 0, 0, 0, 0, 0, 0, 0, 0, 0, 0, 0, 0, 0, 0, 0, 0, 0, 0, 0, 0, 0, 0, 0, 0, 0, 0, 0, 0, 0, 0, 0, 0, 0, 0, 0, 0, 0, 0, 0, 0, 0, 0, 0, 0, 0, 0, 0, 0, 0, 0, 0, 0, 0, 0, 0, 0, 0, 0, 0, 0, 0, 0, 0, 0, 0, 0, 0, 0, 0, 0, 0, 0, 0, 0, 0, 0, 3, 3, 3, 3, 3, 3, 3, 3, 3, 3, 3, 3, 3, 3, 3, 3, 3, 3, 3, 3, 3, 3, 3, 3, 3, 3, 3, 3, 3, 3, 3, 3, 3, 3, 3, 3, 3, 3, 3, 3, 3, 3, 3, 3, 3, 3, 3, 3, 3, 3, 3, 3, 3, 3, 3, 3, 3, 3, 3, 3, 3, 3, 3, 3, 3, 3, 3, 3, 3, 3, 3, 3, 3, 3, 3, 3, 3, 3, 3, 3, 3, 3, 3, 3, 3, 3, 3, 3, 3, 3, 3, 3, 3, 3, 3, 3, 3, 3, 3, 3, 3, 3, 3, 3, 3, 3, 3, 3, 3, 3, 3, 3, 3, 3, 3, 3, 3, 3, 3, 3, 3, 3, 3, 3, 3, 3, 3, 3, 3, 3, 3, 3, 3, 3, 3, 3, 3, 3, 3, 3, 3, 3, 3, 3, 3, 3, 3, 3, 3, 3, 3, 3, 3, 3, 3, 3, 3, 3, 3, 3, 3, 3, 3, 3, 3, 3, 3, 3, 3, 3, 3, 3, 3, 3, 3, 3, 3, 3, 3, 3, 3, 3, 3, 3, 3, 3, 3, 3, 3, 3, 3, 3, 3, 3, 3, 3, 3, 3, 3, 3, 3, 3, 2, 2, 2, 2, 2, 2, 2, 2, 2, 2, 2, 2, 2, 2, 2, 2, 2, 2, 2, 2, 2, 2, 2, 2, 2, 2, 2, 2, 2, 2, 2, 2, 2, 2, 2, 2, 2, 2, 2, 2, 2, 2, 2, 2, 2, 2, 2, 2, 2, 2, 2, 2, 2, 2, 2, 2, 2, 2, 2, 2, 2, 2, 2, 2, 2, 2, 2, 2, 2, 2, 2, 2, 2, 2, 2, 2, 2, 2, 2, 2, 2, 2, 2, 2, 2, 2, 2, 2, 2, 2, 2, 2, 2, 2, 2, 2, 2, 2, 2, 2, 2, 2, 2, 2, 2, 2, 2, 2, 2, 2, 2, 2, 2, 2, 2, 2, 2, 2, 2, 2, 2, 2, 2, 2, 2, 2, 2, 2, 2, 2, 2, 2, 2, 2, 2, 2, 2, 2, 2, 2, 2, 2, 2, 2, 2, 2, 2, 2, 2, 2, 2, 2, 2, 2, 2, 2, 2, 2, 2, 2, 2, 2, 2, 2, 2, 2, 2, 2, 2, 2, 2, 2, 2, 2, 2, 2, 2, 2, 2, 2, 2, 2, 2, 2, 2, 2, 2, 2, 2, 2, 2, 2, 2, 2, 2, 2, 2, 2, 2, 2, 2, 2]\n"
     ]
    }
   ],
   "source": [
    "print(labels)"
   ]
  },
  {
   "cell_type": "code",
   "execution_count": 6,
   "id": "89ba54e2",
   "metadata": {},
   "outputs": [
    {
     "name": "stdout",
     "output_type": "stream",
     "text": [
      "(808, 32, 32, 3) (808,)\n"
     ]
    }
   ],
   "source": [
    "image_data = np.array(image_data,dtype='float32')/255.0\n",
    "labels = np.array(labels)\n",
    "print(image_data.shape, labels.shape)\n",
    "# so we have 808 images, each image has 100X100 size and 3 is the no of channels or depth of image "
   ]
  },
  {
   "cell_type": "markdown",
   "id": "6a310d4c",
   "metadata": {},
   "source": [
    "Randomly shuffling the data"
   ]
  },
  {
   "cell_type": "code",
   "execution_count": 7,
   "id": "318c22ff",
   "metadata": {},
   "outputs": [],
   "source": [
    "import random"
   ]
  },
  {
   "cell_type": "code",
   "execution_count": 8,
   "id": "e3c492b2",
   "metadata": {},
   "outputs": [],
   "source": [
    "# combining the data to a list which is zipping of image_data and labels\n",
    "combined_data = list(zip(image_data,labels))\n",
    "random.shuffle(combined_data)"
   ]
  },
  {
   "cell_type": "code",
   "execution_count": 9,
   "id": "b34be81f",
   "metadata": {},
   "outputs": [],
   "source": [
    "# unzipping\n",
    "# * is used to unzip anything which has been zipped (1st part will go to images & 2nd to labels)\n",
    "image_data[:], labels[:] = zip(*combined_data)"
   ]
  },
  {
   "cell_type": "markdown",
   "id": "a8c7e724",
   "metadata": {},
   "source": [
    "### 2. Visualising the Data"
   ]
  },
  {
   "cell_type": "code",
   "execution_count": 10,
   "id": "26907ce7",
   "metadata": {},
   "outputs": [],
   "source": [
    "def drawImag(img):\n",
    "    plt.imshow(img)\n",
    "    plt.axis(\"off\")   # turning off the axis in the images\n",
    "    plt.show()\n",
    "    return"
   ]
  },
  {
   "cell_type": "code",
   "execution_count": 11,
   "id": "197612fb",
   "metadata": {},
   "outputs": [
    {
     "data": {
      "image/png": "[encoded data removed]",
      "text/plain": [
       "<Figure size 432x288 with 1 Axes>"
      ]
     },
     "metadata": {
      "needs_background": "light"
     },
     "output_type": "display_data"
    },
    {
     "data": {
      "image/png": "[encoded data removed]",
      "text/plain": [
       "<Figure size 432x288 with 1 Axes>"
      ]
     },
     "metadata": {
      "needs_background": "light"
     },
     "output_type": "display_data"
    },
    {
     "data": {
      "image/png": "[encoded data removed]",
      "text/plain": [
       "<Figure size 432x288 with 1 Axes>"
      ]
     },
     "metadata": {
      "needs_background": "light"
     },
     "output_type": "display_data"
    },
    {
     "data": {
      "image/png": "[encoded data removed]",
      "text/plain": [
       "<Figure size 432x288 with 1 Axes>"
      ]
     },
     "metadata": {
      "needs_background": "light"
     },
     "output_type": "display_data"
    },
    {
     "data": {
      "image/png": "[encoded data removed]",
      "text/plain": [
       "<Figure size 432x288 with 1 Axes>"
      ]
     },
     "metadata": {
      "needs_background": "light"
     },
     "output_type": "display_data"
    },
    {
     "data": {
      "image/png": "[encoded data removed]",
      "text/plain": [
       "<Figure size 432x288 with 1 Axes>"
      ]
     },
     "metadata": {
      "needs_background": "light"
     },
     "output_type": "display_data"
    },
    {
     "data": {
      "image/png": "[encoded data removed]",
      "text/plain": [
       "<Figure size 432x288 with 1 Axes>"
      ]
     },
     "metadata": {
      "needs_background": "light"
     },
     "output_type": "display_data"
    },
    {
     "data": {
      "image/png": "[encoded data removed]",
      "text/plain": [
       "<Figure size 432x288 with 1 Axes>"
      ]
     },
     "metadata": {
      "needs_background": "light"
     },
     "output_type": "display_data"
    },
    {
     "data": {
      "image/png": "[encoded data removed]",
      "text/plain": [
       "<Figure size 432x288 with 1 Axes>"
      ]
     },
     "metadata": {
      "needs_background": "light"
     },
     "output_type": "display_data"
    },
    {
     "data": {
      "image/png": "[encoded data removed]",
      "text/plain": [
       "<Figure size 432x288 with 1 Axes>"
      ]
     },
     "metadata": {
      "needs_background": "light"
     },
     "output_type": "display_data"
    }
   ],
   "source": [
    "for i in range(10):\n",
    "    drawImag(image_data[i])"
   ]
  },
  {
   "cell_type": "markdown",
   "id": "755f42e8",
   "metadata": {},
   "source": [
    "### 3. SVM Classification"
   ]
  },
  {
   "cell_type": "code",
   "execution_count": 12,
   "id": "6c662698",
   "metadata": {},
   "outputs": [],
   "source": [
    "class SVM:\n",
    "    \n",
    "    def __init__(self,C=1.0):\n",
    "        self.C = C        # parameter for penalty (how much we want to penalize the outliers)\n",
    "        self.W = 0        # weights used for the hyperplane\n",
    "        self.b = 0        # bias term\n",
    "\n",
    "    # computing the loss\n",
    "    def hingeLoss(self,W,b,X,Y):\n",
    "        loss = 0.0\n",
    "        loss += .5*np.dot(W,W.T)\n",
    "        m = X.shape[0]\n",
    "        for i in range(m):\n",
    "            ti = Y[i]*(np.dot(W,X[i].T) + b)\n",
    "            loss += self.C * max(0,(1-ti))\n",
    "        return loss[0][0]\n",
    "    \n",
    "    def fit(self,X,Y,batch_size=100,learning_rate=0.00001,maxItr=1000):\n",
    "        no_of_features = X.shape[1]\n",
    "        no_of_samples = X.shape[0]\n",
    "        \n",
    "        n = learning_rate\n",
    "        c = self.C\n",
    "        \n",
    "        # initialize the model parameters - weight matrix W and bias term b\n",
    "        W = np.zeros((1,no_of_features))\n",
    "        bias = 0\n",
    "        \n",
    "        # training part\n",
    "        losses = []\n",
    "        \n",
    "        for i in range(maxItr):\n",
    "            # training loop \n",
    "            l = self.hingeLoss(W,bias,X,Y)\n",
    "            losses.append(l)\n",
    "            # after randomly shuffling, we take the first batch and compute the gradient over these\n",
    "            # examples, update the weights and bias, then iterate over next batch and so on\n",
    "            ids = np.arange(no_of_samples)\n",
    "            np.random.shuffle(ids)\n",
    "            \n",
    "            # we are going to iterate over all the batches in 1 epoch\n",
    "            # batch gradient descent (paper) with random shuffling\n",
    "            for batch_start in range(0,no_of_samples,batch_size):\n",
    "                # assume 0 gradient for the batch\n",
    "                gradw = 0\n",
    "                gradb = 0\n",
    "                \n",
    "                # iterate over all examples in the mini batch\n",
    "                for j in range(batch_start,batch_start+batch_size):\n",
    "                    # at any time if we go out of index, this condition will help us to avoid that\n",
    "                    if j<no_of_samples:\n",
    "                        i = ids[j]      # example that we are going to pick\n",
    "                        ti = Y[i]*(np.dot(W,X[i].T) + bias)\n",
    "                        \n",
    "                        if ti>1:\n",
    "                            gradw += 0\n",
    "                            gradb += 0\n",
    "                        else:\n",
    "                            gradw += c*Y[i]*X[i]\n",
    "                            gradb += c*Y[i]\n",
    "                \n",
    "                # gradient for the batch is ready, so we update W and b\n",
    "                W = W - n*W + n*gradw\n",
    "                bias = bias + n*gradb \n",
    "                \n",
    "        self.W = W\n",
    "        self.b = bias\n",
    "        return W,bias,losses"
   ]
  },
  {
   "cell_type": "markdown",
   "id": "3e8f97e3",
   "metadata": {},
   "source": [
    "We need to convert data for One-for-One classification. "
   ]
  },
  {
   "cell_type": "code",
   "execution_count": 13,
   "id": "020d3bec",
   "metadata": {},
   "outputs": [
    {
     "name": "stdout",
     "output_type": "stream",
     "text": [
      "(808, 3072)\n",
      "(808,)\n"
     ]
    }
   ],
   "source": [
    "M = image_data.shape[0]\n",
    "image_data = image_data.reshape(M,-1)    # flattening every image into a single row\n",
    "print(image_data.shape)\n",
    "print(labels.shape)\n",
    "# now every example/image has 3072 features"
   ]
  },
  {
   "cell_type": "code",
   "execution_count": 14,
   "id": "1e3751ce",
   "metadata": {},
   "outputs": [
    {
     "name": "stdout",
     "output_type": "stream",
     "text": [
      "4\n"
     ]
    }
   ],
   "source": [
    "CLASSES = len(np.unique(labels))\n",
    "print(CLASSES)"
   ]
  },
  {
   "cell_type": "code",
   "execution_count": 15,
   "id": "3edaf402",
   "metadata": {},
   "outputs": [],
   "source": [
    "def classWiseData(x,y):\n",
    "    data = {}\n",
    "    \n",
    "    for i in range(CLASSES):\n",
    "        data[i] = []\n",
    "        \n",
    "    for i in range(x.shape[0]):\n",
    "        data[y[i]].append(x[i])\n",
    "    \n",
    "    for k in data.keys():\n",
    "        data[k] = np.array(data[k])\n",
    "        \n",
    "    return data"
   ]
  },
  {
   "cell_type": "code",
   "execution_count": 16,
   "id": "390d95b7",
   "metadata": {},
   "outputs": [],
   "source": [
    "data = classWiseData(image_data,labels)"
   ]
  },
  {
   "cell_type": "code",
   "execution_count": 17,
   "id": "cb36b903",
   "metadata": {},
   "outputs": [
    {
     "name": "stdout",
     "output_type": "stream",
     "text": [
      "(202, 3072)\n",
      "(202, 3072)\n",
      "(202, 3072)\n",
      "(202, 3072)\n"
     ]
    }
   ],
   "source": [
    "print(data[0].shape)\n",
    "print(data[1].shape)\n",
    "print(data[2].shape)\n",
    "print(data[3].shape)\n",
    "# each has 202 images and each image has 3072 features"
   ]
  },
  {
   "cell_type": "code",
   "execution_count": 18,
   "id": "3696bbf7",
   "metadata": {},
   "outputs": [],
   "source": [
    "# we give training data of two classes, d1 & d2 and then we merge them into a single matrix\n",
    "def getDataPairForSVM(d1,d2):   \n",
    "    \"\"\"combines data of two classes into a single matrix\"\"\"\n",
    "    l1, l2 = d1.shape[0], d2.shape[0]\n",
    "    \n",
    "    samples = l1+l2\n",
    "    features = d1.shape[1]\n",
    "    \n",
    "    data_pair = np.zeros((samples,features))\n",
    "    data_labels = np.zeros((samples,))\n",
    "    \n",
    "    data_pair[:l1,:] = d1\n",
    "    data_pair[l1:,:] = d2   \n",
    "    \n",
    "    data_labels[:l1] = -1\n",
    "    data_labels[l1:] = +1\n",
    "    \n",
    "    return data_pair, data_labels"
   ]
  },
  {
   "cell_type": "markdown",
   "id": "b5a7bedc",
   "metadata": {},
   "source": [
    "#### Training nC2 SVM \n",
    "Feeding pairs of data to SVM classifier and training the model"
   ]
  },
  {
   "cell_type": "code",
   "execution_count": 19,
   "id": "64d8f018",
   "metadata": {},
   "outputs": [],
   "source": [
    "mySVM = SVM()"
   ]
  },
  {
   "cell_type": "code",
   "execution_count": 20,
   "id": "f724b9f7",
   "metadata": {},
   "outputs": [],
   "source": [
    "def trainSVMs(x,y):\n",
    "    svm_classifiers = {}\n",
    "    \n",
    "    # making nC2 classifiers\n",
    "    for i in range(CLASSES):\n",
    "        svm_classifiers[i] = {}\n",
    "        for j in range(i+1,CLASSES):\n",
    "            xpair,ypair = getDataPairForSVM(data[i],data[j])\n",
    "            wts,b,loss = mySVM.fit(xpair,ypair)\n",
    "            svm_classifiers[i][j] = (wts,b)\n",
    "            \n",
    "            plt.style.use(\"seaborn\")\n",
    "            plt.plot(loss)\n",
    "            plt.show()\n",
    "    return svm_classifiers"
   ]
  },
  {
   "cell_type": "code",
   "execution_count": 21,
   "id": "6ee11f11",
   "metadata": {},
   "outputs": [
    {
     "data": {
      "image/png": "[encoded data removed]",
      "text/plain": [
       "<Figure size 576x396 with 1 Axes>"
      ]
     },
     "metadata": {},
     "output_type": "display_data"
    },
    {
     "data": {
      "image/png": "[encoded data removed]",
      "text/plain": [
       "<Figure size 576x396 with 1 Axes>"
      ]
     },
     "metadata": {},
     "output_type": "display_data"
    },
    {
     "data": {
      "image/png": "[encoded data removed]",
      "text/plain": [
       "<Figure size 576x396 with 1 Axes>"
      ]
     },
     "metadata": {},
     "output_type": "display_data"
    },
    {
     "data": {
      "image/png": "[encoded data removed]",
      "text/plain": [
       "<Figure size 576x396 with 1 Axes>"
      ]
     },
     "metadata": {},
     "output_type": "display_data"
    },
    {
     "data": {
      "image/png": "[encoded data removed]",
      "text/plain": [
       "<Figure size 576x396 with 1 Axes>"
      ]
     },
     "metadata": {},
     "output_type": "display_data"
    },
    {
     "data": {
      "image/png": "[encoded data removed]",
      "text/plain": [
       "<Figure size 576x396 with 1 Axes>"
      ]
     },
     "metadata": {},
     "output_type": "display_data"
    }
   ],
   "source": [
    "svm_classifiers = trainSVMs(image_data,labels)"
   ]
  },
  {
   "cell_type": "code",
   "execution_count": 22,
   "id": "c7b2f3b8",
   "metadata": {},
   "outputs": [
    {
     "name": "stdout",
     "output_type": "stream",
     "text": [
      "(1, 3072)\n",
      "-0.05852999999999995\n"
     ]
    }
   ],
   "source": [
    "# parameters of the model in which the first class we trained was 0 and second was 1 (cats & dogs)\n",
    "cats_dogs = svm_classifiers[0][1]\n",
    "print(cats_dogs[0].shape)  # 3072 weights\n",
    "print(cats_dogs[1])        # bias"
   ]
  },
  {
   "cell_type": "code",
   "execution_count": 23,
   "id": "bff15fff",
   "metadata": {},
   "outputs": [],
   "source": [
    "# classifier for cats and humans\n",
    "cats_humans = svm_classifiers[0][3]"
   ]
  },
  {
   "cell_type": "markdown",
   "id": "ee5a3fda",
   "metadata": {},
   "source": [
    "### 4. Prediction"
   ]
  },
  {
   "cell_type": "code",
   "execution_count": 24,
   "id": "ab2ed60d",
   "metadata": {},
   "outputs": [],
   "source": [
    "# actual prediction of SVM\n",
    "def binaryPredict(x,w,b):\n",
    "    z = np.dot(x,w.T) + b\n",
    "    if z>=0:\n",
    "        return 1\n",
    "    else:\n",
    "        return -1"
   ]
  },
  {
   "cell_type": "code",
   "execution_count": 25,
   "id": "1c3a0a7b",
   "metadata": {},
   "outputs": [],
   "source": [
    "def predict(x):\n",
    "    count = np.zeros((CLASSES,))\n",
    "    \n",
    "    for i in range(CLASSES):\n",
    "        for j in range(i+1,CLASSES):\n",
    "            w,b = svm_classifiers[i][j]\n",
    "            \n",
    "            # taking a majority prediction from each of the classifier\n",
    "            # we will see which classifier has predicted which class\n",
    "            z = binaryPredict(x,w,b)\n",
    "            \n",
    "            if(z==1):\n",
    "                count[j] += 1\n",
    "            else:\n",
    "                count[i] += 1\n",
    "                \n",
    "    final_prediction = np.argmax(count)\n",
    "    return final_prediction"
   ]
  },
  {
   "cell_type": "code",
   "execution_count": 26,
   "id": "404e57d1",
   "metadata": {},
   "outputs": [
    {
     "name": "stdout",
     "output_type": "stream",
     "text": [
      "1\n",
      "1\n"
     ]
    }
   ],
   "source": [
    "print(predict(image_data[0]))\n",
    "print(labels[0])"
   ]
  },
  {
   "cell_type": "code",
   "execution_count": 27,
   "id": "dc420638",
   "metadata": {},
   "outputs": [],
   "source": [
    "def accuracy(x,y):\n",
    "    count = 0\n",
    "    for i in range(x.shape[0]):\n",
    "        prediction = predict(x[i])\n",
    "        if (prediction==y[i]):\n",
    "            count += 1\n",
    "    return count/x.shape[0]         # total correct predictions/total number of examples"
   ]
  },
  {
   "cell_type": "code",
   "execution_count": 28,
   "id": "e859c082",
   "metadata": {},
   "outputs": [
    {
     "data": {
      "text/plain": [
       "0.6076732673267327"
      ]
     },
     "execution_count": 28,
     "metadata": {},
     "output_type": "execute_result"
    }
   ],
   "source": [
    "accuracy(image_data,labels)"
   ]
  },
  {
   "cell_type": "markdown",
   "id": "8b061a84",
   "metadata": {},
   "source": [
    "### 5. SVM using scikit learn"
   ]
  },
  {
   "cell_type": "code",
   "execution_count": 29,
   "id": "9ba6e33e",
   "metadata": {},
   "outputs": [],
   "source": [
    "from sklearn import svm"
   ]
  },
  {
   "cell_type": "code",
   "execution_count": 30,
   "id": "96d6c934",
   "metadata": {},
   "outputs": [],
   "source": [
    "svm_classifier = svm.SVC(kernel='linear',C=1.0)"
   ]
  },
  {
   "cell_type": "code",
   "execution_count": 31,
   "id": "97cdabaf",
   "metadata": {},
   "outputs": [
    {
     "data": {
      "text/plain": [
       "SVC(kernel='linear')"
      ]
     },
     "execution_count": 31,
     "metadata": {},
     "output_type": "execute_result"
    }
   ],
   "source": [
    "# it will handle the multi-class classification by itself and we do not need to do anything\n",
    "svm_classifier.fit(image_data,labels)"
   ]
  },
  {
   "cell_type": "code",
   "execution_count": 32,
   "id": "ae838dbf",
   "metadata": {},
   "outputs": [
    {
     "data": {
      "text/plain": [
       "0.6410891089108911"
      ]
     },
     "execution_count": 32,
     "metadata": {},
     "output_type": "execute_result"
    }
   ],
   "source": [
    "svm_classifier.score(image_data,labels)"
   ]
  },
  {
   "cell_type": "code",
   "execution_count": null,
   "id": "518fed22",
   "metadata": {},
   "outputs": [],
   "source": []
  }
 ],
 "metadata": {
  "kernelspec": {
   "display_name": "Python 3 (ipykernel)",
   "language": "python",
   "name": "python3"
  },
  "language_info": {
   "codemirror_mode": {
    "name": "ipython",
    "version": 3
   },
   "file_extension": ".py",
   "mimetype": "text/x-python",
   "name": "python",
   "nbconvert_exporter": "python",
   "pygments_lexer": "ipython3",
   "version": "3.8.12"
  }
 },
 "nbformat": 4,
 "nbformat_minor": 5
}
